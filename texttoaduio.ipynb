{
 "cells": [
  {
   "cell_type": "code",
   "execution_count": null,
   "metadata": {
    "vscode": {
     "languageId": "plaintext"
    }
   },
   "outputs": [],
   "source": [
    "# 1. Choose a pretrained model. \n",
    "#    This \"tts_models/en/ljspeech/tacotron2-DDC\" is a decent single-speaker English model.\n",
    "model_name = \"tts_models/en/ljspeech/tacotron2-DDC\"\n",
    "\n",
    "# 2. Initialize TTS (downloading the model if needed).\n",
    "tts = TTS(model_name)\n",
    "\n",
    "# 3. Convert text to speech and save to a WAV file.\n",
    "text = \"Hello world, this is a test of Coqui TTS. It sounds pretty decent for an open-source model.\"\n",
    "tts.tts_to_file(text=text, file_path=\"output.wav\")\n",
    "\n",
    "print(\"TTS done! Saved to 'output.wav'.\")"
   ]
  }
 ],
 "metadata": {
  "language_info": {
   "name": "python"
  }
 },
 "nbformat": 4,
 "nbformat_minor": 2
}

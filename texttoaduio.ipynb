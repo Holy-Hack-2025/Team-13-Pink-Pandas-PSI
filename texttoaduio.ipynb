{
 "cells": [
  {
   "cell_type": "code",
   "execution_count": 1,
   "metadata": {},
   "outputs": [
    {
     "ename": "NameError",
     "evalue": "name 'TTS' is not defined",
     "output_type": "error",
     "traceback": [
      "\u001b[0;31m---------------------------------------------------------------------------\u001b[0m",
      "\u001b[0;31mNameError\u001b[0m                                 Traceback (most recent call last)",
      "Cell \u001b[0;32mIn [1], line 6\u001b[0m\n\u001b[1;32m      3\u001b[0m model_name \u001b[38;5;241m=\u001b[39m \u001b[38;5;124m\"\u001b[39m\u001b[38;5;124mtts_models/en/ljspeech/tacotron2-DDC\u001b[39m\u001b[38;5;124m\"\u001b[39m\n\u001b[1;32m      5\u001b[0m \u001b[38;5;66;03m# 2. Initialize TTS (downloading the model if needed).\u001b[39;00m\n\u001b[0;32m----> 6\u001b[0m tts \u001b[38;5;241m=\u001b[39m \u001b[43mTTS\u001b[49m(model_name)\n\u001b[1;32m      8\u001b[0m \u001b[38;5;66;03m# 3. Convert text to speech and save to a WAV file.\u001b[39;00m\n\u001b[1;32m      9\u001b[0m text \u001b[38;5;241m=\u001b[39m \u001b[38;5;124m\"\u001b[39m\u001b[38;5;124mHello world, this is a test of Coqui TTS. It sounds pretty decent for an open-source model.\u001b[39m\u001b[38;5;124m\"\u001b[39m\n",
      "\u001b[0;31mNameError\u001b[0m: name 'TTS' is not defined"
     ]
    }
   ],
   "source": [
    "# 1. Choose a pretrained model. \n",
    "#    This \"tts_models/en/ljspeech/tacotron2-DDC\" is a decent single-speaker English model.\n",
    "model_name = \"tts_models/en/ljspeech/tacotron2-DDC\"\n",
    "\n",
    "# 2. Initialize TTS (downloading the model if needed).\n",
    "tts = TTS(model_name)\n",
    "\n",
    "# 3. Convert text to speech and save to a WAV file.\n",
    "text = \"Hello world, this is a test of Coqui TTS. It sounds pretty decent for an open-source model.\"\n",
    "tts.tts_to_file(text=text, file_path=\"output.wav\")\n",
    "\n",
    "print(\"TTS done! Saved to 'output.wav'.\")"
   ]
  },
  {
   "cell_type": "code",
   "execution_count": null,
   "metadata": {},
   "outputs": [],
   "source": []
  },
  {
   "cell_type": "code",
   "execution_count": null,
   "metadata": {},
   "outputs": [],
   "source": []
  }
 ],
 "metadata": {
  "kernelspec": {
   "display_name": "Python 3",
   "language": "python",
   "name": "python3"
  },
  "language_info": {
   "codemirror_mode": {
    "name": "ipython",
    "version": 3
   },
   "file_extension": ".py",
   "mimetype": "text/x-python",
   "name": "python",
   "nbconvert_exporter": "python",
   "pygments_lexer": "ipython3",
   "version": "3.10.14"
  }
 },
 "nbformat": 4,
 "nbformat_minor": 2
}
